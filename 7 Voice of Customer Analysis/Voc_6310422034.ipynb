<<<<<<< HEAD
{
  "nbformat": 4,
  "nbformat_minor": 0,
  "metadata": {
    "colab": {
      "name": "Voc-6310422034.ipynb",
      "provenance": [],
      "collapsed_sections": []
    },
    "kernelspec": {
      "name": "python3",
      "display_name": "Python 3"
    },
    "language_info": {
      "name": "python"
    }
  },
  "cells": [
    {
      "cell_type": "markdown",
      "metadata": {
        "id": "WrQbd86APp-2"
      },
      "source": [
        "**Step 0 - install and import dependencies**"
      ]
    },
    {
      "cell_type": "code",
      "metadata": {
        "colab": {
          "base_uri": "https://localhost:8080/"
        },
        "id": "bF2rn-l5Rp4U",
        "outputId": "0fb9be6a-ad9e-4251-903a-b8c68bc50604"
      },
      "source": [
        "!pip install pythainlp\n",
        "!pip install tensorflow_text\n",
        "!pip install umap-learn"
      ],
      "execution_count": 1,
      "outputs": [
        {
          "output_type": "stream",
          "name": "stdout",
          "text": [
            "Collecting pythainlp\n",
            "  Downloading pythainlp-2.3.2-py3-none-any.whl (11.0 MB)\n",
            "\u001b[K     |████████████████████████████████| 11.0 MB 7.5 MB/s \n",
            "\u001b[?25hCollecting tinydb>=3.0\n",
            "  Downloading tinydb-4.5.2-py3-none-any.whl (23 kB)\n",
            "Collecting python-crfsuite>=0.9.6\n",
            "  Downloading python_crfsuite-0.9.7-cp37-cp37m-manylinux1_x86_64.whl (743 kB)\n",
            "\u001b[K     |████████████████████████████████| 743 kB 39.9 MB/s \n",
            "\u001b[?25hRequirement already satisfied: requests>=2.22.0 in /usr/local/lib/python3.7/dist-packages (from pythainlp) (2.23.0)\n",
            "Requirement already satisfied: urllib3!=1.25.0,!=1.25.1,<1.26,>=1.21.1 in /usr/local/lib/python3.7/dist-packages (from requests>=2.22.0->pythainlp) (1.24.3)\n",
            "Requirement already satisfied: chardet<4,>=3.0.2 in /usr/local/lib/python3.7/dist-packages (from requests>=2.22.0->pythainlp) (3.0.4)\n",
            "Requirement already satisfied: certifi>=2017.4.17 in /usr/local/lib/python3.7/dist-packages (from requests>=2.22.0->pythainlp) (2021.10.8)\n",
            "Requirement already satisfied: idna<3,>=2.5 in /usr/local/lib/python3.7/dist-packages (from requests>=2.22.0->pythainlp) (2.10)\n",
            "Requirement already satisfied: typing-extensions<4.0.0,>=3.10.0 in /usr/local/lib/python3.7/dist-packages (from tinydb>=3.0->pythainlp) (3.10.0.2)\n",
            "Installing collected packages: tinydb, python-crfsuite, pythainlp\n",
            "Successfully installed pythainlp-2.3.2 python-crfsuite-0.9.7 tinydb-4.5.2\n",
            "Collecting tensorflow_text\n",
            "  Downloading tensorflow_text-2.7.0-cp37-cp37m-manylinux2010_x86_64.whl (4.9 MB)\n",
            "\u001b[K     |████████████████████████████████| 4.9 MB 7.6 MB/s \n",
            "\u001b[?25hRequirement already satisfied: tensorflow-hub>=0.8.0 in /usr/local/lib/python3.7/dist-packages (from tensorflow_text) (0.12.0)\n",
            "Requirement already satisfied: tensorflow<2.8,>=2.7.0 in /usr/local/lib/python3.7/dist-packages (from tensorflow_text) (2.7.0)\n",
            "Requirement already satisfied: h5py>=2.9.0 in /usr/local/lib/python3.7/dist-packages (from tensorflow<2.8,>=2.7.0->tensorflow_text) (3.1.0)\n",
            "Requirement already satisfied: gast<0.5.0,>=0.2.1 in /usr/local/lib/python3.7/dist-packages (from tensorflow<2.8,>=2.7.0->tensorflow_text) (0.4.0)\n",
            "Requirement already satisfied: numpy>=1.14.5 in /usr/local/lib/python3.7/dist-packages (from tensorflow<2.8,>=2.7.0->tensorflow_text) (1.19.5)\n",
            "Requirement already satisfied: six>=1.12.0 in /usr/local/lib/python3.7/dist-packages (from tensorflow<2.8,>=2.7.0->tensorflow_text) (1.15.0)\n",
            "Requirement already satisfied: keras-preprocessing>=1.1.1 in /usr/local/lib/python3.7/dist-packages (from tensorflow<2.8,>=2.7.0->tensorflow_text) (1.1.2)\n",
            "Requirement already satisfied: tensorflow-io-gcs-filesystem>=0.21.0 in /usr/local/lib/python3.7/dist-packages (from tensorflow<2.8,>=2.7.0->tensorflow_text) (0.21.0)\n",
            "Requirement already satisfied: wrapt>=1.11.0 in /usr/local/lib/python3.7/dist-packages (from tensorflow<2.8,>=2.7.0->tensorflow_text) (1.13.3)\n",
            "Requirement already satisfied: grpcio<2.0,>=1.24.3 in /usr/local/lib/python3.7/dist-packages (from tensorflow<2.8,>=2.7.0->tensorflow_text) (1.41.1)\n",
            "Requirement already satisfied: flatbuffers<3.0,>=1.12 in /usr/local/lib/python3.7/dist-packages (from tensorflow<2.8,>=2.7.0->tensorflow_text) (2.0)\n",
            "Requirement already satisfied: tensorflow-estimator<2.8,~=2.7.0rc0 in /usr/local/lib/python3.7/dist-packages (from tensorflow<2.8,>=2.7.0->tensorflow_text) (2.7.0)\n",
            "Requirement already satisfied: google-pasta>=0.1.1 in /usr/local/lib/python3.7/dist-packages (from tensorflow<2.8,>=2.7.0->tensorflow_text) (0.2.0)\n",
            "Requirement already satisfied: wheel<1.0,>=0.32.0 in /usr/local/lib/python3.7/dist-packages (from tensorflow<2.8,>=2.7.0->tensorflow_text) (0.37.0)\n",
            "Requirement already satisfied: absl-py>=0.4.0 in /usr/local/lib/python3.7/dist-packages (from tensorflow<2.8,>=2.7.0->tensorflow_text) (0.12.0)\n",
            "Requirement already satisfied: typing-extensions>=3.6.6 in /usr/local/lib/python3.7/dist-packages (from tensorflow<2.8,>=2.7.0->tensorflow_text) (3.10.0.2)\n",
            "Requirement already satisfied: termcolor>=1.1.0 in /usr/local/lib/python3.7/dist-packages (from tensorflow<2.8,>=2.7.0->tensorflow_text) (1.1.0)\n",
            "Requirement already satisfied: tensorboard~=2.6 in /usr/local/lib/python3.7/dist-packages (from tensorflow<2.8,>=2.7.0->tensorflow_text) (2.7.0)\n",
            "Requirement already satisfied: protobuf>=3.9.2 in /usr/local/lib/python3.7/dist-packages (from tensorflow<2.8,>=2.7.0->tensorflow_text) (3.17.3)\n",
            "Requirement already satisfied: astunparse>=1.6.0 in /usr/local/lib/python3.7/dist-packages (from tensorflow<2.8,>=2.7.0->tensorflow_text) (1.6.3)\n",
            "Requirement already satisfied: opt-einsum>=2.3.2 in /usr/local/lib/python3.7/dist-packages (from tensorflow<2.8,>=2.7.0->tensorflow_text) (3.3.0)\n",
            "Requirement already satisfied: keras<2.8,>=2.7.0rc0 in /usr/local/lib/python3.7/dist-packages (from tensorflow<2.8,>=2.7.0->tensorflow_text) (2.7.0)\n",
            "Requirement already satisfied: libclang>=9.0.1 in /usr/local/lib/python3.7/dist-packages (from tensorflow<2.8,>=2.7.0->tensorflow_text) (12.0.0)\n",
            "Requirement already satisfied: cached-property in /usr/local/lib/python3.7/dist-packages (from h5py>=2.9.0->tensorflow<2.8,>=2.7.0->tensorflow_text) (1.5.2)\n",
            "Requirement already satisfied: requests<3,>=2.21.0 in /usr/local/lib/python3.7/dist-packages (from tensorboard~=2.6->tensorflow<2.8,>=2.7.0->tensorflow_text) (2.23.0)\n",
            "Requirement already satisfied: google-auth<3,>=1.6.3 in /usr/local/lib/python3.7/dist-packages (from tensorboard~=2.6->tensorflow<2.8,>=2.7.0->tensorflow_text) (1.35.0)\n",
            "Requirement already satisfied: google-auth-oauthlib<0.5,>=0.4.1 in /usr/local/lib/python3.7/dist-packages (from tensorboard~=2.6->tensorflow<2.8,>=2.7.0->tensorflow_text) (0.4.6)\n",
            "Requirement already satisfied: tensorboard-data-server<0.7.0,>=0.6.0 in /usr/local/lib/python3.7/dist-packages (from tensorboard~=2.6->tensorflow<2.8,>=2.7.0->tensorflow_text) (0.6.1)\n",
            "Requirement already satisfied: setuptools>=41.0.0 in /usr/local/lib/python3.7/dist-packages (from tensorboard~=2.6->tensorflow<2.8,>=2.7.0->tensorflow_text) (57.4.0)\n",
            "Requirement already satisfied: markdown>=2.6.8 in /usr/local/lib/python3.7/dist-packages (from tensorboard~=2.6->tensorflow<2.8,>=2.7.0->tensorflow_text) (3.3.4)\n",
            "Requirement already satisfied: werkzeug>=0.11.15 in /usr/local/lib/python3.7/dist-packages (from tensorboard~=2.6->tensorflow<2.8,>=2.7.0->tensorflow_text) (1.0.1)\n",
            "Requirement already satisfied: tensorboard-plugin-wit>=1.6.0 in /usr/local/lib/python3.7/dist-packages (from tensorboard~=2.6->tensorflow<2.8,>=2.7.0->tensorflow_text) (1.8.0)\n",
            "Requirement already satisfied: rsa<5,>=3.1.4 in /usr/local/lib/python3.7/dist-packages (from google-auth<3,>=1.6.3->tensorboard~=2.6->tensorflow<2.8,>=2.7.0->tensorflow_text) (4.7.2)\n",
            "Requirement already satisfied: pyasn1-modules>=0.2.1 in /usr/local/lib/python3.7/dist-packages (from google-auth<3,>=1.6.3->tensorboard~=2.6->tensorflow<2.8,>=2.7.0->tensorflow_text) (0.2.8)\n",
            "Requirement already satisfied: cachetools<5.0,>=2.0.0 in /usr/local/lib/python3.7/dist-packages (from google-auth<3,>=1.6.3->tensorboard~=2.6->tensorflow<2.8,>=2.7.0->tensorflow_text) (4.2.4)\n",
            "Requirement already satisfied: requests-oauthlib>=0.7.0 in /usr/local/lib/python3.7/dist-packages (from google-auth-oauthlib<0.5,>=0.4.1->tensorboard~=2.6->tensorflow<2.8,>=2.7.0->tensorflow_text) (1.3.0)\n",
            "Requirement already satisfied: importlib-metadata in /usr/local/lib/python3.7/dist-packages (from markdown>=2.6.8->tensorboard~=2.6->tensorflow<2.8,>=2.7.0->tensorflow_text) (4.8.2)\n",
            "Requirement already satisfied: pyasn1<0.5.0,>=0.4.6 in /usr/local/lib/python3.7/dist-packages (from pyasn1-modules>=0.2.1->google-auth<3,>=1.6.3->tensorboard~=2.6->tensorflow<2.8,>=2.7.0->tensorflow_text) (0.4.8)\n",
            "Requirement already satisfied: certifi>=2017.4.17 in /usr/local/lib/python3.7/dist-packages (from requests<3,>=2.21.0->tensorboard~=2.6->tensorflow<2.8,>=2.7.0->tensorflow_text) (2021.10.8)\n",
            "Requirement already satisfied: idna<3,>=2.5 in /usr/local/lib/python3.7/dist-packages (from requests<3,>=2.21.0->tensorboard~=2.6->tensorflow<2.8,>=2.7.0->tensorflow_text) (2.10)\n",
            "Requirement already satisfied: urllib3!=1.25.0,!=1.25.1,<1.26,>=1.21.1 in /usr/local/lib/python3.7/dist-packages (from requests<3,>=2.21.0->tensorboard~=2.6->tensorflow<2.8,>=2.7.0->tensorflow_text) (1.24.3)\n",
            "Requirement already satisfied: chardet<4,>=3.0.2 in /usr/local/lib/python3.7/dist-packages (from requests<3,>=2.21.0->tensorboard~=2.6->tensorflow<2.8,>=2.7.0->tensorflow_text) (3.0.4)\n",
            "Requirement already satisfied: oauthlib>=3.0.0 in /usr/local/lib/python3.7/dist-packages (from requests-oauthlib>=0.7.0->google-auth-oauthlib<0.5,>=0.4.1->tensorboard~=2.6->tensorflow<2.8,>=2.7.0->tensorflow_text) (3.1.1)\n",
            "Requirement already satisfied: zipp>=0.5 in /usr/local/lib/python3.7/dist-packages (from importlib-metadata->markdown>=2.6.8->tensorboard~=2.6->tensorflow<2.8,>=2.7.0->tensorflow_text) (3.6.0)\n",
            "Installing collected packages: tensorflow-text\n",
            "Successfully installed tensorflow-text-2.7.0\n",
            "Collecting umap-learn\n",
            "  Downloading umap-learn-0.5.2.tar.gz (86 kB)\n",
            "\u001b[K     |████████████████████████████████| 86 kB 4.3 MB/s \n",
            "\u001b[?25hRequirement already satisfied: numpy>=1.17 in /usr/local/lib/python3.7/dist-packages (from umap-learn) (1.19.5)\n",
            "Requirement already satisfied: scikit-learn>=0.22 in /usr/local/lib/python3.7/dist-packages (from umap-learn) (0.22.2.post1)\n",
            "Requirement already satisfied: scipy>=1.0 in /usr/local/lib/python3.7/dist-packages (from umap-learn) (1.4.1)\n",
            "Requirement already satisfied: numba>=0.49 in /usr/local/lib/python3.7/dist-packages (from umap-learn) (0.51.2)\n",
            "Collecting pynndescent>=0.5\n",
            "  Downloading pynndescent-0.5.5.tar.gz (1.1 MB)\n",
            "\u001b[K     |████████████████████████████████| 1.1 MB 45.1 MB/s \n",
            "\u001b[?25hRequirement already satisfied: tqdm in /usr/local/lib/python3.7/dist-packages (from umap-learn) (4.62.3)\n",
            "Requirement already satisfied: llvmlite<0.35,>=0.34.0.dev0 in /usr/local/lib/python3.7/dist-packages (from numba>=0.49->umap-learn) (0.34.0)\n",
            "Requirement already satisfied: setuptools in /usr/local/lib/python3.7/dist-packages (from numba>=0.49->umap-learn) (57.4.0)\n",
            "Requirement already satisfied: joblib>=0.11 in /usr/local/lib/python3.7/dist-packages (from pynndescent>=0.5->umap-learn) (1.1.0)\n",
            "Building wheels for collected packages: umap-learn, pynndescent\n",
            "  Building wheel for umap-learn (setup.py) ... \u001b[?25l\u001b[?25hdone\n",
            "  Created wheel for umap-learn: filename=umap_learn-0.5.2-py3-none-any.whl size=82709 sha256=6bdded50424582cf8198f2fb36cbc3dfd23e3fc08f6568bb7e6f1537b29169cd\n",
            "  Stored in directory: /root/.cache/pip/wheels/84/1b/c6/aaf68a748122632967cef4dffef68224eb16798b6793257d82\n",
            "  Building wheel for pynndescent (setup.py) ... \u001b[?25l\u001b[?25hdone\n",
            "  Created wheel for pynndescent: filename=pynndescent-0.5.5-py3-none-any.whl size=52603 sha256=196240c1432432b1d04a960468419d27140b0dfa74070176c3a43a1279b98449\n",
            "  Stored in directory: /root/.cache/pip/wheels/af/e9/33/04db1436df0757c42fda8ea6796d7a8586e23c85fac355f476\n",
            "Successfully built umap-learn pynndescent\n",
            "Installing collected packages: pynndescent, umap-learn\n",
            "Successfully installed pynndescent-0.5.5 umap-learn-0.5.2\n"
          ]
        }
      ]
    },
    {
      "cell_type": "code",
      "metadata": {
        "id": "7GvuznzISB-h"
      },
      "source": [
        "import numpy as np\n",
        "import pandas as pd\n",
        "import re\n",
        "\n",
        "import tensorflow as tf\n",
        "import tensorflow_hub as hub\n",
        "import tensorflow_text\n",
        "import umap\n",
        "\n",
        "from sklearn.cluster import KMeans\n",
        "import matplotlib.pyplot as plt\n",
        "\n",
        "from sklearn.cluster import AgglomerativeClustering\n",
        "from sklearn.neighbors import kneighbors_graph\n",
        "\n",
        "import pythainlp\n",
        "from pythainlp.corpus.common import thai_words\n",
        "from pythainlp.util import Trie\n",
        "import collections\n"
      ],
      "execution_count": 92,
      "outputs": []
    },
    {
      "cell_type": "code",
      "metadata": {
        "id": "fUq1dSYcS5yM"
      },
      "source": [
        "module_url = 'https://tfhub.dev/google/universal-sentence-encoder-multilingual/3' #'https://tfhub.dev/google/universal-sentence-encoder-multilingual/3' for a large model\n",
        "\n",
        "model = hub.load(module_url)"
      ],
      "execution_count": 93,
      "outputs": []
    },
    {
      "cell_type": "code",
      "metadata": {
        "id": "dZiaG3R4b6kN"
      },
      "source": [
        "df = pd.read_csv(\"Wongnai Reviews - Small.csv\")"
      ],
      "execution_count": 4,
      "outputs": []
    },
    {
      "cell_type": "code",
      "metadata": {
        "colab": {
          "base_uri": "https://localhost:8080/",
          "height": 204
        },
        "id": "gonSv6i4cVs1",
        "outputId": "56eef04b-2bf7-4db0-a5cf-0887f3f67454"
      },
      "source": [
        "df.head()"
      ],
      "execution_count": 94,
      "outputs": [
        {
          "output_type": "execute_result",
          "data": {
            "text/html": [
              "<div>\n",
              "<style scoped>\n",
              "    .dataframe tbody tr th:only-of-type {\n",
              "        vertical-align: middle;\n",
              "    }\n",
              "\n",
              "    .dataframe tbody tr th {\n",
              "        vertical-align: top;\n",
              "    }\n",
              "\n",
              "    .dataframe thead th {\n",
              "        text-align: right;\n",
              "    }\n",
              "</style>\n",
              "<table border=\"1\" class=\"dataframe\">\n",
              "  <thead>\n",
              "    <tr style=\"text-align: right;\">\n",
              "      <th></th>\n",
              "      <th>Review ID</th>\n",
              "      <th>Review</th>\n",
              "      <th>KMeans ID</th>\n",
              "      <th>Agglomerative ID</th>\n",
              "    </tr>\n",
              "  </thead>\n",
              "  <tbody>\n",
              "    <tr>\n",
              "      <th>0</th>\n",
              "      <td>1</td>\n",
              "      <td>เป็นคนที่ชอบทาน Macchiato เป็นประจำ มีวันนึงเด...</td>\n",
              "      <td>2</td>\n",
              "      <td>0</td>\n",
              "    </tr>\n",
              "    <tr>\n",
              "      <th>1</th>\n",
              "      <td>2</td>\n",
              "      <td>Art of Coffee Kasetsart เป็นร้านกาแฟรสชาติเยี่...</td>\n",
              "      <td>2</td>\n",
              "      <td>0</td>\n",
              "    </tr>\n",
              "    <tr>\n",
              "      <th>2</th>\n",
              "      <td>3</td>\n",
              "      <td>กวงทะเลเผา อาหารทะเลเค้าสดจริงๆเนื้อปูหวานไม่ค...</td>\n",
              "      <td>1</td>\n",
              "      <td>0</td>\n",
              "    </tr>\n",
              "    <tr>\n",
              "      <th>3</th>\n",
              "      <td>4</td>\n",
              "      <td>วันนี้มีโอกาสตื่นเช้าครับเลยถึงโอกาสออกมาหาอะไ...</td>\n",
              "      <td>1</td>\n",
              "      <td>0</td>\n",
              "    </tr>\n",
              "    <tr>\n",
              "      <th>4</th>\n",
              "      <td>5</td>\n",
              "      <td>ชอบมาทานร้านนี้ถ้าอยากกินอาหารเวียดนามใกล้บ้าน...</td>\n",
              "      <td>1</td>\n",
              "      <td>0</td>\n",
              "    </tr>\n",
              "  </tbody>\n",
              "</table>\n",
              "</div>"
            ],
            "text/plain": [
              "   Review ID  ... Agglomerative ID\n",
              "0          1  ...                0\n",
              "1          2  ...                0\n",
              "2          3  ...                0\n",
              "3          4  ...                0\n",
              "4          5  ...                0\n",
              "\n",
              "[5 rows x 4 columns]"
            ]
          },
          "metadata": {},
          "execution_count": 94
        }
      ]
    },
    {
      "cell_type": "markdown",
      "metadata": {
        "id": "Oowl7VYeP3gK"
      },
      "source": [
        "**Step 1 - document embedding and dimension reduction**"
      ]
    },
    {
      "cell_type": "code",
      "metadata": {
        "colab": {
          "base_uri": "https://localhost:8080/"
        },
        "id": "e29WZmM4cCOS",
        "outputId": "69a2ca09-d85f-457c-e7f8-707cc86ea82b"
      },
      "source": [
        "#embed sentences using Universal Sentence Encoder (USE)\n",
        "\n",
        "embed_comments_array = model(df['Review'].values).numpy()\n",
        "embed_comments_array"
      ],
      "execution_count": 95,
      "outputs": [
        {
          "output_type": "execute_result",
          "data": {
            "text/plain": [
              "array([[ 0.08993827,  0.01941084,  0.03787038, ..., -0.03488849,\n",
              "         0.06299512,  0.04635989],\n",
              "       [ 0.00634244,  0.00814594,  0.03071941, ..., -0.01478723,\n",
              "        -0.03080936, -0.03316405],\n",
              "       [ 0.0633687 , -0.02027139, -0.05077003, ..., -0.06530775,\n",
              "        -0.00952999, -0.03439987],\n",
              "       ...,\n",
              "       [ 0.08775924,  0.03609736,  0.01263062, ..., -0.03102781,\n",
              "        -0.03361677,  0.01928871],\n",
              "       [ 0.05691195,  0.05381691, -0.0399575 , ..., -0.06598807,\n",
              "        -0.05390478, -0.01037725],\n",
              "       [ 0.0777048 ,  0.05080631,  0.02680681, ..., -0.0061413 ,\n",
              "        -0.01313567,  0.02236264]], dtype=float32)"
            ]
          },
          "metadata": {},
          "execution_count": 95
        }
      ]
    },
    {
      "cell_type": "code",
      "metadata": {
        "id": "5gps1fE8ctMQ"
      },
      "source": [
        "#reduce array dimensions using umap (you can chagne n_components)\n",
        "\n",
        "reducer = umap.UMAP(random_state=42,n_components=64)\n",
        "umap_embed_comments_array = reducer.fit_transform(embed_comments_array)"
      ],
      "execution_count": 96,
      "outputs": []
    },
    {
      "cell_type": "markdown",
      "metadata": {
        "id": "s5qq2RQlQJbV"
      },
      "source": [
        "**Step 2 - document clustering using KMeans**"
      ]
    },
    {
      "cell_type": "code",
      "metadata": {
        "colab": {
          "base_uri": "https://localhost:8080/",
          "height": 312
        },
        "id": "2IkMb1UIF3k5",
        "outputId": "6f3272b5-7477-4f5b-d956-1051a39d7e4c"
      },
      "source": [
        "#run kmeans with various number of k. evaluate no. of k based on the elbow plot\n",
        "\n",
        "wcss=[]\n",
        "max_k = 10\n",
        "for i in range(1, max_k):\n",
        "  kmeans = KMeans(i)\n",
        "  kmeans.fit(umap_embed_comments_array)\n",
        "  wcss_iter = kmeans.inertia_\n",
        "  wcss.append(wcss_iter)\n",
        "\n",
        "number_clusters = range(1, max_k)\n",
        "plt.plot(number_clusters,wcss)\n",
        "plt.title('The Elbow title')\n",
        "plt.xlabel('Number of clusters')\n",
        "plt.ylabel('WCSS')"
      ],
      "execution_count": 97,
      "outputs": [
        {
          "output_type": "execute_result",
          "data": {
            "text/plain": [
              "Text(0, 0.5, 'WCSS')"
            ]
          },
          "metadata": {},
          "execution_count": 97
        },
        {
          "output_type": "display_data",
          "data": {
            "image/png": "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\n",
            "text/plain": [
              "<Figure size 432x288 with 1 Axes>"
            ]
          },
          "metadata": {
            "needs_background": "light"
          }
        }
      ]
    },
    {
      "cell_type": "code",
      "metadata": {
        "id": "1o0czkMVdSJ5"
      },
      "source": [
        "#run kmeans with no. of clusters you see fit the most\n",
        "\n",
        "k = 3\n",
        "\n",
        "kmeans = KMeans(n_clusters = k)\n",
        "kmeans.fit(umap_embed_comments_array)\n",
        "\n",
        "df['KMeans ID'] = kmeans.labels_"
      ],
      "execution_count": 98,
      "outputs": []
    },
    {
      "cell_type": "code",
      "metadata": {
        "id": "bf3R2QBr3oOq"
      },
      "source": [
        "#merge all reviews of each cluster into one big sentence \n",
        "\n",
        "df_kmeans = pd.DataFrame(columns=[\"KMeans ID\", \"texts\"])\n",
        "\n",
        "\n",
        "for i in range(0, k):\n",
        "  row = []\n",
        "  row.append(i)\n",
        "  row.append(df['Review'][df['KMeans ID'] == i].to_string())\n",
        "  df_kmeans.loc[len(df_kmeans)] = row"
      ],
      "execution_count": 99,
      "outputs": []
    },
    {
      "cell_type": "code",
      "metadata": {
        "colab": {
          "base_uri": "https://localhost:8080/",
          "height": 141
        },
        "id": "UFo_nqQEL08U",
        "outputId": "37b51a22-1f0a-48ff-c8a0-5dd4ec15d585"
      },
      "source": [
        "df_kmeans"
      ],
      "execution_count": 100,
      "outputs": [
        {
          "output_type": "execute_result",
          "data": {
            "text/html": [
              "<div>\n",
              "<style scoped>\n",
              "    .dataframe tbody tr th:only-of-type {\n",
              "        vertical-align: middle;\n",
              "    }\n",
              "\n",
              "    .dataframe tbody tr th {\n",
              "        vertical-align: top;\n",
              "    }\n",
              "\n",
              "    .dataframe thead th {\n",
              "        text-align: right;\n",
              "    }\n",
              "</style>\n",
              "<table border=\"1\" class=\"dataframe\">\n",
              "  <thead>\n",
              "    <tr style=\"text-align: right;\">\n",
              "      <th></th>\n",
              "      <th>KMeans ID</th>\n",
              "      <th>texts</th>\n",
              "    </tr>\n",
              "  </thead>\n",
              "  <tbody>\n",
              "    <tr>\n",
              "      <th>0</th>\n",
              "      <td>0</td>\n",
              "      <td>13     เคยเป็นไหมกันไหมคะ หลังอาหารมื้อใหญ่ ต่...</td>\n",
              "    </tr>\n",
              "    <tr>\n",
              "      <th>1</th>\n",
              "      <td>1</td>\n",
              "      <td>2      กวงทะเลเผา อาหารทะเลเค้าสดจริงๆเนื้อปูห...</td>\n",
              "    </tr>\n",
              "    <tr>\n",
              "      <th>2</th>\n",
              "      <td>2</td>\n",
              "      <td>0      เป็นคนที่ชอบทาน Macchiato เป็นประจำ มีว...</td>\n",
              "    </tr>\n",
              "  </tbody>\n",
              "</table>\n",
              "</div>"
            ],
            "text/plain": [
              "  KMeans ID                                              texts\n",
              "0         0  13     เคยเป็นไหมกันไหมคะ หลังอาหารมื้อใหญ่ ต่...\n",
              "1         1  2      กวงทะเลเผา อาหารทะเลเค้าสดจริงๆเนื้อปูห...\n",
              "2         2  0      เป็นคนที่ชอบทาน Macchiato เป็นประจำ มีว..."
            ]
          },
          "metadata": {},
          "execution_count": 100
        }
      ]
    },
    {
      "cell_type": "code",
      "metadata": {
        "id": "JydvwIz5NcaI"
      },
      "source": [
        "#create regex compiler for removal of a character you don't want\n",
        "\n",
        "special_characters = \"/[!@#$%^&*']/g\"\n",
        "\n",
        "specialchar_pattern = re.compile(special_characters)"
      ],
      "execution_count": 101,
      "outputs": []
    },
    {
      "cell_type": "code",
      "metadata": {
        "id": "R8ymEA_2EhGi"
      },
      "source": [
        "#create regex compiler for removal of any emoji\n",
        "\n",
        "emoji_pattern = re.compile(\"[\"\n",
        "        u\"\\U0001F600-\\U0001F64F\"  # emoticons\n",
        "        u\"\\U0001F300-\\U0001F5FF\"  # symbols & pictographs\n",
        "        u\"\\U0001F680-\\U0001F6FF\"  # transport & map symbols\n",
        "        u\"\\U0001F1E0-\\U0001F1FF\"  # flags (iOS)\n",
        "                           \"]+\", flags=re.UNICODE)"
      ],
      "execution_count": 102,
      "outputs": []
    },
    {
      "cell_type": "code",
      "metadata": {
        "id": "9Q93YKJZK5ak"
      },
      "source": [
        "#create regex compiler for removal of digit\n",
        "\n",
        "number_pattern = re.compile(\"[0-9]\")"
      ],
      "execution_count": 103,
      "outputs": []
    },
    {
      "cell_type": "code",
      "metadata": {
        "id": "sHZ0HKlXNeSi"
      },
      "source": [
        "#create regex compiler for removal of white space\n",
        "\n",
        "space_pattern = re.compile(\"\\s+\")"
      ],
      "execution_count": 104,
      "outputs": []
    },
    {
      "cell_type": "code",
      "metadata": {
        "id": "-orHzqLkNupd"
      },
      "source": [
        "#create regex compiler for removal of .\n",
        "\n",
        "dot_pattern = re.compile(r\"\\.+\")"
      ],
      "execution_count": 105,
      "outputs": []
    },
    {
      "cell_type": "code",
      "metadata": {
        "id": "v7bW9th9N7oG"
      },
      "source": [
        "#create regex compiler for removal of \\\n",
        "\n",
        "backslash_pattern = re.compile(r\"\\\\+\")"
      ],
      "execution_count": 106,
      "outputs": []
    },
    {
      "cell_type": "code",
      "metadata": {
        "id": "RaEk3BIZPWt0"
      },
      "source": [
        "# one_pattern = re.compile(r\"\\w\")"
      ],
      "execution_count": 83,
      "outputs": []
    },
    {
      "cell_type": "code",
      "metadata": {
        "id": "ZGVvQhZz4tGs"
      },
      "source": [
        "#define a function to tokenize a sentence into words - you can define words you want to remove as well as new words for tokenization\n",
        "\n",
        "stopwords = list(pythainlp.corpus.thai_stopwords())\n",
        "removed_words = ['u', 'b', 'n', 'nn', 'nn-', '\\n', 'ร้าน','กิน','ทาน','กก','ผม','ทาน','ร้า','กา','รีวิว','ก','น','ก','สวัสดี']\n",
        "screening_words = stopwords + removed_words\n",
        "\n",
        "new_words = {\"สตารบัก\",\"ชานมไข่มุก\"}\n",
        "\n",
        "words = new_words.union(thai_words())\n",
        "\n",
        "custom_dictionary_trie = Trie(words)\n",
        "\n",
        "def tokenize_to_list(sentence):\n",
        "  merged = []\n",
        "  words = pythainlp.word_tokenize(str(sentence), engine='newmm', custom_dict=custom_dictionary_trie)\n",
        "  for word in words:\n",
        "    if word not in screening_words:\n",
        "      merged.append(word)\n",
        "  return merged"
      ],
      "execution_count": 116,
      "outputs": []
    },
    {
      "cell_type": "code",
      "metadata": {
        "id": "MnN1ekEoL9ug"
      },
      "source": [
        "#clean and tokenize sentences. count the occurences of each word\n",
        "\n",
        "df_kmeans['texts'] = df_kmeans['texts'].apply(lambda x: emoji_pattern.sub(r'', x))\n",
        "df_kmeans['texts'] = df_kmeans['texts'].apply(lambda x: specialchar_pattern.sub(r'', x))\n",
        "df_kmeans['texts'] = df_kmeans['texts'].apply(lambda x: number_pattern.sub(r'', x))\n",
        "df_kmeans['texts'] = df_kmeans['texts'].apply(lambda x: space_pattern.sub(r'', x))\n",
        "df_kmeans['texts'] = df_kmeans['texts'].apply(lambda x: dot_pattern.sub(r'', x))\n",
        "df_kmeans['texts'] = df_kmeans['texts'].apply(lambda x: backslash_pattern.sub(r'', x))\n",
        "# df_kmeans['texts'] = df_kmeans['texts'].apply(lambda x: one_pattern.sub(r'', x))\n",
        "df_kmeans['texts_tokenized'] = df_kmeans['texts'].apply(lambda x: tokenize_to_list(x))\n",
        "df_kmeans['texts_count'] = df_kmeans['texts_tokenized'].apply(lambda x: collections.Counter(x).most_common())"
      ],
      "execution_count": 117,
      "outputs": []
    },
    {
      "cell_type": "code",
      "metadata": {
        "colab": {
          "base_uri": "https://localhost:8080/",
          "height": 141
        },
        "id": "G0jG1yO889B2",
        "outputId": "fb4b4dc6-e2da-4223-e699-3e5398402610"
      },
      "source": [
        "#results of tokenization\n",
        "\n",
        "df_kmeans"
      ],
      "execution_count": 118,
      "outputs": [
        {
          "output_type": "execute_result",
          "data": {
            "text/html": [
              "<div>\n",
              "<style scoped>\n",
              "    .dataframe tbody tr th:only-of-type {\n",
              "        vertical-align: middle;\n",
              "    }\n",
              "\n",
              "    .dataframe tbody tr th {\n",
              "        vertical-align: top;\n",
              "    }\n",
              "\n",
              "    .dataframe thead th {\n",
              "        text-align: right;\n",
              "    }\n",
              "</style>\n",
              "<table border=\"1\" class=\"dataframe\">\n",
              "  <thead>\n",
              "    <tr style=\"text-align: right;\">\n",
              "      <th></th>\n",
              "      <th>KMeans ID</th>\n",
              "      <th>texts</th>\n",
              "      <th>texts_tokenized</th>\n",
              "      <th>texts_count</th>\n",
              "    </tr>\n",
              "  </thead>\n",
              "  <tbody>\n",
              "    <tr>\n",
              "      <th>0</th>\n",
              "      <td>0</td>\n",
              "      <td>เคยเป็นไหมกันไหมคะหลังอาหารมื้อใหญ่ต่อให้อิ่เช...</td>\n",
              "      <td>[ไหม, ไหม, หลังอาหาร, มื้อ, ต่อให้, อิ่, เช้า,...</td>\n",
              "      <td>[(ชา, 9), (ชานมไข่มุก, 9), (ไข่มุก, 5), (นม, 5...</td>\n",
              "    </tr>\n",
              "    <tr>\n",
              "      <th>1</th>\n",
              "      <td>1</td>\n",
              "      <td>กวงทะเลเผาอาหารทะเลเค้าสดจริงๆเนื้อปูหวานไม่คว...</td>\n",
              "      <td>[กวง, ทะเล, เผา, อาหารทะเล, เค้า, สด, เนื้อ, ป...</td>\n",
              "      <td>[(ร้านอาหาร, 14), (อร่อย, 11), (อาหาร, 10), (บ...</td>\n",
              "    </tr>\n",
              "    <tr>\n",
              "      <th>2</th>\n",
              "      <td>2</td>\n",
              "      <td>เป็นคนที่ชอบทานMacchiatoเป็นประจำมีวันนึงเดArt...</td>\n",
              "      <td>[คน, ชอบ, Macchiato, เป็นประจำ, นึง, เด, Artof...</td>\n",
              "      <td>[(ร้านกาแฟ, 25), (กาแฟ, 22), (ชอบ, 10), (คาเฟ่...</td>\n",
              "    </tr>\n",
              "  </tbody>\n",
              "</table>\n",
              "</div>"
            ],
            "text/plain": [
              "  KMeans ID  ...                                        texts_count\n",
              "0         0  ...  [(ชา, 9), (ชานมไข่มุก, 9), (ไข่มุก, 5), (นม, 5...\n",
              "1         1  ...  [(ร้านอาหาร, 14), (อร่อย, 11), (อาหาร, 10), (บ...\n",
              "2         2  ...  [(ร้านกาแฟ, 25), (กาแฟ, 22), (ชอบ, 10), (คาเฟ่...\n",
              "\n",
              "[3 rows x 4 columns]"
            ]
          },
          "metadata": {},
          "execution_count": 118
        }
      ]
    },
    {
      "cell_type": "code",
      "metadata": {
        "colab": {
          "base_uri": "https://localhost:8080/"
        },
        "id": "n0LZ5H8_Dqvn",
        "outputId": "3a6286e9-2181-4fa4-96e5-370ee1bc06c0"
      },
      "source": [
        "#show top keywords of each cluster\n",
        "\n",
        "top_N_words = 10\n",
        "\n",
        "\n",
        "for i in range(0, len(df_kmeans)):\n",
        "  print(f\"Cluster ID : {i}\\n\")\n",
        "  print(f\"Most common words include : {list(df_kmeans['texts_count'][i])[:top_N_words]}\\n\")\n",
        "\n",
        "#tune a model by remove unwanted characters and words and add more words to a custom dictionary"
      ],
      "execution_count": 124,
      "outputs": [
        {
          "output_type": "stream",
          "name": "stdout",
          "text": [
            "Cluster ID : 0\n",
            "\n",
            "Most common words include : [('ชา', 9), ('ชานมไข่มุก', 9), ('ไข่มุก', 5), ('นม', 5), ('เครื่องดื่ม', 4), ('น้ำ', 3), ('ตั้งอยู่', 3), ('ลอง', 3), ('เดิน', 3), ('ปั่น', 3)]\n",
            "\n",
            "Cluster ID : 1\n",
            "\n",
            "Most common words include : [('ร้านอาหาร', 14), ('อร่อย', 11), ('อาหาร', 10), ('บ้าน', 6), ('ส้มตำ', 6), ('ซอย', 6), ('สาขา', 6), ('กาแฟ', 6), ('เพื่อน', 5), ('ไทย', 5)]\n",
            "\n",
            "Cluster ID : 2\n",
            "\n",
            "Most common words include : [('ร้านกาแฟ', 25), ('กาแฟ', 22), ('ชอบ', 10), ('คาเฟ่', 6), ('แวะ', 6), ('ดี', 6), ('รี่', 5), ('อร่อย', 5), ('น่ารัก', 5), ('นั่ง', 5)]\n",
            "\n"
          ]
        }
      ]
    },
    {
      "cell_type": "code",
      "metadata": {
        "id": "VWgW-tCkcPgU"
      },
      "source": [
        "# document clustering using Agglomorative Clustering with cosine similarity\n",
        "#clustering using agglomorative clustering\n",
        "\n",
        "# knn_graph = kneighbors_graph(embed_comments_array, 5, include_self=False)\n",
        "# model = AgglomerativeClustering(linkage=\"average\", connectivity=knn_graph, n_clusters=10, affinity=\"cosine\")\n",
        "# model.fit(embed_comments_array)\n",
        "# df['Agglomerative ID'] = model.labels_"
      ],
      "execution_count": 120,
      "outputs": []
    },
    {
      "cell_type": "code",
      "metadata": {
        "id": "XHfsJyL8dmGC"
      },
      "source": [
        "# #merge all reviews of each cluster into one big sentence \n",
        "\n",
        "# df_Agglomerative = pd.DataFrame(columns=[\"Agglomerative ID\", \"texts\"])\n",
        "\n",
        "\n",
        "# for i in range(0, k):\n",
        "#   row = []\n",
        "#   row.append(i)\n",
        "#   row.append(str(df['Review'][df['Agglomerative ID'] == i].tolist()))\n",
        "#   df_Agglomerative.loc[len(df_Agglomerative)] = row"
      ],
      "execution_count": 121,
      "outputs": []
    },
    {
      "cell_type": "code",
      "metadata": {
        "id": "7hsSbTWvdtK2"
      },
      "source": [
        "# #clean and tokenize sentences. count the occurences of each word\n",
        "\n",
        "# df_Agglomerative['texts'] = df_Agglomerative['texts'].apply(lambda x: emoji_pattern.sub(r'', x))\n",
        "# df_Agglomerative['texts'] = df_Agglomerative['texts'].apply(lambda x: specialchar_pattern.sub(r'', x))\n",
        "# df_Agglomerative['texts'] = df_Agglomerative['texts'].apply(lambda x: number_pattern.sub(r'', x))\n",
        "# df_Agglomerative['texts'] = df_Agglomerative['texts'].apply(lambda x: space_pattern.sub(r'', x))\n",
        "# df_Agglomerative['texts'] = df_Agglomerative['texts'].apply(lambda x: dot_pattern.sub(r'', x))\n",
        "# df_Agglomerative['texts'] = df_Agglomerative['texts'].apply(lambda x: backslash_pattern.sub(r'', x))\n",
        "# df_Agglomerative['texts_tokenized'] = df_Agglomerative['texts'].apply(lambda x: tokenize_to_list(x))\n",
        "# df_Agglomerative['texts_count'] = df_Agglomerative['texts_tokenized'].apply(lambda x: collections.Counter(x).most_common())"
      ],
      "execution_count": 122,
      "outputs": []
    },
    {
      "cell_type": "code",
      "metadata": {
        "colab": {
          "base_uri": "https://localhost:8080/"
        },
        "id": "HsRWk5oHd0UH",
        "outputId": "d146ba03-2abf-42e9-a02c-8eac3cb39ffe"
      },
      "source": [
        "# #show top keywords of each cluster\n",
        "\n",
        "# top_N_words = 10\n",
        "\n",
        "# for i in range(0, len(df_Agglomerative)):\n",
        "#   print(f\"Cluster ID : {i}\\n\")\n",
        "#   print(f\"Most common words include : {list(df_Agglomerative['texts_count'][i])[:top_N_words]}\\n\")"
      ],
      "execution_count": 123,
      "outputs": [
        {
          "output_type": "stream",
          "name": "stdout",
          "text": [
            "Cluster ID : 0\n",
            "\n",
            "Most common words include : [('อร่อย', 508), ('รสชาติ', 407), ('ดี', 347), ('กาแฟ', 311), ('เมนู', 309), ('สั่ง', 301), ('อาหาร', 285), ('ราคา', 273), ('(', 270), (')', 250)]\n",
            "\n",
            "Cluster ID : 1\n",
            "\n",
            "Most common words include : [('แตงโม', 22), ('น้ำ', 8), ('ปั่น', 6), ('เนื้อ', 6), ('เลือก', 4), ('ซื้อ', 4), ('ดื่ม', 4), ('พันธุ์', 3), ('รับประทาน', 3), ('แก้', 3)]\n",
            "\n",
            "Cluster ID : 2\n",
            "\n",
            "Most common words include : [('ดิชั้น', 4), ('แย่มาก', 3), ('โต๊ะ', 2), ('รอง', 2), ('แก้ว', 2), (\"['\", 1), ('ดิ', 1), ('ช้ัน', 1), ('ทบ', 1), ('อาหาร', 1)]\n",
            "\n"
          ]
        }
      ]
    },
    {
      "cell_type": "markdown",
      "metadata": {
        "id": "3aNJxg2ATtmK"
      },
      "source": [
        "**Step 3 - result discussion**"
      ]
    },
    {
      "cell_type": "markdown",
      "metadata": {
        "id": "cQ2SOjNKT1d7"
      },
      "source": [
        "ควรมีกี่ topic และ เป็น topic อะไร\n",
        "\n",
        "Ans\n",
        "3 topic \n",
        "1.   ชานมไข่มุก\n",
        "2.   ร้านอาหาร\n",
        "3.   ร้านกาแฟ\n",
        "\n"
      ]
    }
  ]
=======
{
  "nbformat": 4,
  "nbformat_minor": 0,
  "metadata": {
    "colab": {
      "name": "Voc-6310422034.ipynb",
      "provenance": [],
      "collapsed_sections": []
    },
    "kernelspec": {
      "name": "python3",
      "display_name": "Python 3"
    },
    "language_info": {
      "name": "python"
    }
  },
  "cells": [
    {
      "cell_type": "markdown",
      "metadata": {
        "id": "WrQbd86APp-2"
      },
      "source": [
        "**Step 0 - install and import dependencies**"
      ]
    },
    {
      "cell_type": "code",
      "metadata": {
        "colab": {
          "base_uri": "https://localhost:8080/"
        },
        "id": "bF2rn-l5Rp4U",
        "outputId": "0fb9be6a-ad9e-4251-903a-b8c68bc50604"
      },
      "source": [
        "!pip install pythainlp\n",
        "!pip install tensorflow_text\n",
        "!pip install umap-learn"
      ],
      "execution_count": 1,
      "outputs": [
        {
          "output_type": "stream",
          "name": "stdout",
          "text": [
            "Collecting pythainlp\n",
            "  Downloading pythainlp-2.3.2-py3-none-any.whl (11.0 MB)\n",
            "\u001b[K     |████████████████████████████████| 11.0 MB 7.5 MB/s \n",
            "\u001b[?25hCollecting tinydb>=3.0\n",
            "  Downloading tinydb-4.5.2-py3-none-any.whl (23 kB)\n",
            "Collecting python-crfsuite>=0.9.6\n",
            "  Downloading python_crfsuite-0.9.7-cp37-cp37m-manylinux1_x86_64.whl (743 kB)\n",
            "\u001b[K     |████████████████████████████████| 743 kB 39.9 MB/s \n",
            "\u001b[?25hRequirement already satisfied: requests>=2.22.0 in /usr/local/lib/python3.7/dist-packages (from pythainlp) (2.23.0)\n",
            "Requirement already satisfied: urllib3!=1.25.0,!=1.25.1,<1.26,>=1.21.1 in /usr/local/lib/python3.7/dist-packages (from requests>=2.22.0->pythainlp) (1.24.3)\n",
            "Requirement already satisfied: chardet<4,>=3.0.2 in /usr/local/lib/python3.7/dist-packages (from requests>=2.22.0->pythainlp) (3.0.4)\n",
            "Requirement already satisfied: certifi>=2017.4.17 in /usr/local/lib/python3.7/dist-packages (from requests>=2.22.0->pythainlp) (2021.10.8)\n",
            "Requirement already satisfied: idna<3,>=2.5 in /usr/local/lib/python3.7/dist-packages (from requests>=2.22.0->pythainlp) (2.10)\n",
            "Requirement already satisfied: typing-extensions<4.0.0,>=3.10.0 in /usr/local/lib/python3.7/dist-packages (from tinydb>=3.0->pythainlp) (3.10.0.2)\n",
            "Installing collected packages: tinydb, python-crfsuite, pythainlp\n",
            "Successfully installed pythainlp-2.3.2 python-crfsuite-0.9.7 tinydb-4.5.2\n",
            "Collecting tensorflow_text\n",
            "  Downloading tensorflow_text-2.7.0-cp37-cp37m-manylinux2010_x86_64.whl (4.9 MB)\n",
            "\u001b[K     |████████████████████████████████| 4.9 MB 7.6 MB/s \n",
            "\u001b[?25hRequirement already satisfied: tensorflow-hub>=0.8.0 in /usr/local/lib/python3.7/dist-packages (from tensorflow_text) (0.12.0)\n",
            "Requirement already satisfied: tensorflow<2.8,>=2.7.0 in /usr/local/lib/python3.7/dist-packages (from tensorflow_text) (2.7.0)\n",
            "Requirement already satisfied: h5py>=2.9.0 in /usr/local/lib/python3.7/dist-packages (from tensorflow<2.8,>=2.7.0->tensorflow_text) (3.1.0)\n",
            "Requirement already satisfied: gast<0.5.0,>=0.2.1 in /usr/local/lib/python3.7/dist-packages (from tensorflow<2.8,>=2.7.0->tensorflow_text) (0.4.0)\n",
            "Requirement already satisfied: numpy>=1.14.5 in /usr/local/lib/python3.7/dist-packages (from tensorflow<2.8,>=2.7.0->tensorflow_text) (1.19.5)\n",
            "Requirement already satisfied: six>=1.12.0 in /usr/local/lib/python3.7/dist-packages (from tensorflow<2.8,>=2.7.0->tensorflow_text) (1.15.0)\n",
            "Requirement already satisfied: keras-preprocessing>=1.1.1 in /usr/local/lib/python3.7/dist-packages (from tensorflow<2.8,>=2.7.0->tensorflow_text) (1.1.2)\n",
            "Requirement already satisfied: tensorflow-io-gcs-filesystem>=0.21.0 in /usr/local/lib/python3.7/dist-packages (from tensorflow<2.8,>=2.7.0->tensorflow_text) (0.21.0)\n",
            "Requirement already satisfied: wrapt>=1.11.0 in /usr/local/lib/python3.7/dist-packages (from tensorflow<2.8,>=2.7.0->tensorflow_text) (1.13.3)\n",
            "Requirement already satisfied: grpcio<2.0,>=1.24.3 in /usr/local/lib/python3.7/dist-packages (from tensorflow<2.8,>=2.7.0->tensorflow_text) (1.41.1)\n",
            "Requirement already satisfied: flatbuffers<3.0,>=1.12 in /usr/local/lib/python3.7/dist-packages (from tensorflow<2.8,>=2.7.0->tensorflow_text) (2.0)\n",
            "Requirement already satisfied: tensorflow-estimator<2.8,~=2.7.0rc0 in /usr/local/lib/python3.7/dist-packages (from tensorflow<2.8,>=2.7.0->tensorflow_text) (2.7.0)\n",
            "Requirement already satisfied: google-pasta>=0.1.1 in /usr/local/lib/python3.7/dist-packages (from tensorflow<2.8,>=2.7.0->tensorflow_text) (0.2.0)\n",
            "Requirement already satisfied: wheel<1.0,>=0.32.0 in /usr/local/lib/python3.7/dist-packages (from tensorflow<2.8,>=2.7.0->tensorflow_text) (0.37.0)\n",
            "Requirement already satisfied: absl-py>=0.4.0 in /usr/local/lib/python3.7/dist-packages (from tensorflow<2.8,>=2.7.0->tensorflow_text) (0.12.0)\n",
            "Requirement already satisfied: typing-extensions>=3.6.6 in /usr/local/lib/python3.7/dist-packages (from tensorflow<2.8,>=2.7.0->tensorflow_text) (3.10.0.2)\n",
            "Requirement already satisfied: termcolor>=1.1.0 in /usr/local/lib/python3.7/dist-packages (from tensorflow<2.8,>=2.7.0->tensorflow_text) (1.1.0)\n",
            "Requirement already satisfied: tensorboard~=2.6 in /usr/local/lib/python3.7/dist-packages (from tensorflow<2.8,>=2.7.0->tensorflow_text) (2.7.0)\n",
            "Requirement already satisfied: protobuf>=3.9.2 in /usr/local/lib/python3.7/dist-packages (from tensorflow<2.8,>=2.7.0->tensorflow_text) (3.17.3)\n",
            "Requirement already satisfied: astunparse>=1.6.0 in /usr/local/lib/python3.7/dist-packages (from tensorflow<2.8,>=2.7.0->tensorflow_text) (1.6.3)\n",
            "Requirement already satisfied: opt-einsum>=2.3.2 in /usr/local/lib/python3.7/dist-packages (from tensorflow<2.8,>=2.7.0->tensorflow_text) (3.3.0)\n",
            "Requirement already satisfied: keras<2.8,>=2.7.0rc0 in /usr/local/lib/python3.7/dist-packages (from tensorflow<2.8,>=2.7.0->tensorflow_text) (2.7.0)\n",
            "Requirement already satisfied: libclang>=9.0.1 in /usr/local/lib/python3.7/dist-packages (from tensorflow<2.8,>=2.7.0->tensorflow_text) (12.0.0)\n",
            "Requirement already satisfied: cached-property in /usr/local/lib/python3.7/dist-packages (from h5py>=2.9.0->tensorflow<2.8,>=2.7.0->tensorflow_text) (1.5.2)\n",
            "Requirement already satisfied: requests<3,>=2.21.0 in /usr/local/lib/python3.7/dist-packages (from tensorboard~=2.6->tensorflow<2.8,>=2.7.0->tensorflow_text) (2.23.0)\n",
            "Requirement already satisfied: google-auth<3,>=1.6.3 in /usr/local/lib/python3.7/dist-packages (from tensorboard~=2.6->tensorflow<2.8,>=2.7.0->tensorflow_text) (1.35.0)\n",
            "Requirement already satisfied: google-auth-oauthlib<0.5,>=0.4.1 in /usr/local/lib/python3.7/dist-packages (from tensorboard~=2.6->tensorflow<2.8,>=2.7.0->tensorflow_text) (0.4.6)\n",
            "Requirement already satisfied: tensorboard-data-server<0.7.0,>=0.6.0 in /usr/local/lib/python3.7/dist-packages (from tensorboard~=2.6->tensorflow<2.8,>=2.7.0->tensorflow_text) (0.6.1)\n",
            "Requirement already satisfied: setuptools>=41.0.0 in /usr/local/lib/python3.7/dist-packages (from tensorboard~=2.6->tensorflow<2.8,>=2.7.0->tensorflow_text) (57.4.0)\n",
            "Requirement already satisfied: markdown>=2.6.8 in /usr/local/lib/python3.7/dist-packages (from tensorboard~=2.6->tensorflow<2.8,>=2.7.0->tensorflow_text) (3.3.4)\n",
            "Requirement already satisfied: werkzeug>=0.11.15 in /usr/local/lib/python3.7/dist-packages (from tensorboard~=2.6->tensorflow<2.8,>=2.7.0->tensorflow_text) (1.0.1)\n",
            "Requirement already satisfied: tensorboard-plugin-wit>=1.6.0 in /usr/local/lib/python3.7/dist-packages (from tensorboard~=2.6->tensorflow<2.8,>=2.7.0->tensorflow_text) (1.8.0)\n",
            "Requirement already satisfied: rsa<5,>=3.1.4 in /usr/local/lib/python3.7/dist-packages (from google-auth<3,>=1.6.3->tensorboard~=2.6->tensorflow<2.8,>=2.7.0->tensorflow_text) (4.7.2)\n",
            "Requirement already satisfied: pyasn1-modules>=0.2.1 in /usr/local/lib/python3.7/dist-packages (from google-auth<3,>=1.6.3->tensorboard~=2.6->tensorflow<2.8,>=2.7.0->tensorflow_text) (0.2.8)\n",
            "Requirement already satisfied: cachetools<5.0,>=2.0.0 in /usr/local/lib/python3.7/dist-packages (from google-auth<3,>=1.6.3->tensorboard~=2.6->tensorflow<2.8,>=2.7.0->tensorflow_text) (4.2.4)\n",
            "Requirement already satisfied: requests-oauthlib>=0.7.0 in /usr/local/lib/python3.7/dist-packages (from google-auth-oauthlib<0.5,>=0.4.1->tensorboard~=2.6->tensorflow<2.8,>=2.7.0->tensorflow_text) (1.3.0)\n",
            "Requirement already satisfied: importlib-metadata in /usr/local/lib/python3.7/dist-packages (from markdown>=2.6.8->tensorboard~=2.6->tensorflow<2.8,>=2.7.0->tensorflow_text) (4.8.2)\n",
            "Requirement already satisfied: pyasn1<0.5.0,>=0.4.6 in /usr/local/lib/python3.7/dist-packages (from pyasn1-modules>=0.2.1->google-auth<3,>=1.6.3->tensorboard~=2.6->tensorflow<2.8,>=2.7.0->tensorflow_text) (0.4.8)\n",
            "Requirement already satisfied: certifi>=2017.4.17 in /usr/local/lib/python3.7/dist-packages (from requests<3,>=2.21.0->tensorboard~=2.6->tensorflow<2.8,>=2.7.0->tensorflow_text) (2021.10.8)\n",
            "Requirement already satisfied: idna<3,>=2.5 in /usr/local/lib/python3.7/dist-packages (from requests<3,>=2.21.0->tensorboard~=2.6->tensorflow<2.8,>=2.7.0->tensorflow_text) (2.10)\n",
            "Requirement already satisfied: urllib3!=1.25.0,!=1.25.1,<1.26,>=1.21.1 in /usr/local/lib/python3.7/dist-packages (from requests<3,>=2.21.0->tensorboard~=2.6->tensorflow<2.8,>=2.7.0->tensorflow_text) (1.24.3)\n",
            "Requirement already satisfied: chardet<4,>=3.0.2 in /usr/local/lib/python3.7/dist-packages (from requests<3,>=2.21.0->tensorboard~=2.6->tensorflow<2.8,>=2.7.0->tensorflow_text) (3.0.4)\n",
            "Requirement already satisfied: oauthlib>=3.0.0 in /usr/local/lib/python3.7/dist-packages (from requests-oauthlib>=0.7.0->google-auth-oauthlib<0.5,>=0.4.1->tensorboard~=2.6->tensorflow<2.8,>=2.7.0->tensorflow_text) (3.1.1)\n",
            "Requirement already satisfied: zipp>=0.5 in /usr/local/lib/python3.7/dist-packages (from importlib-metadata->markdown>=2.6.8->tensorboard~=2.6->tensorflow<2.8,>=2.7.0->tensorflow_text) (3.6.0)\n",
            "Installing collected packages: tensorflow-text\n",
            "Successfully installed tensorflow-text-2.7.0\n",
            "Collecting umap-learn\n",
            "  Downloading umap-learn-0.5.2.tar.gz (86 kB)\n",
            "\u001b[K     |████████████████████████████████| 86 kB 4.3 MB/s \n",
            "\u001b[?25hRequirement already satisfied: numpy>=1.17 in /usr/local/lib/python3.7/dist-packages (from umap-learn) (1.19.5)\n",
            "Requirement already satisfied: scikit-learn>=0.22 in /usr/local/lib/python3.7/dist-packages (from umap-learn) (0.22.2.post1)\n",
            "Requirement already satisfied: scipy>=1.0 in /usr/local/lib/python3.7/dist-packages (from umap-learn) (1.4.1)\n",
            "Requirement already satisfied: numba>=0.49 in /usr/local/lib/python3.7/dist-packages (from umap-learn) (0.51.2)\n",
            "Collecting pynndescent>=0.5\n",
            "  Downloading pynndescent-0.5.5.tar.gz (1.1 MB)\n",
            "\u001b[K     |████████████████████████████████| 1.1 MB 45.1 MB/s \n",
            "\u001b[?25hRequirement already satisfied: tqdm in /usr/local/lib/python3.7/dist-packages (from umap-learn) (4.62.3)\n",
            "Requirement already satisfied: llvmlite<0.35,>=0.34.0.dev0 in /usr/local/lib/python3.7/dist-packages (from numba>=0.49->umap-learn) (0.34.0)\n",
            "Requirement already satisfied: setuptools in /usr/local/lib/python3.7/dist-packages (from numba>=0.49->umap-learn) (57.4.0)\n",
            "Requirement already satisfied: joblib>=0.11 in /usr/local/lib/python3.7/dist-packages (from pynndescent>=0.5->umap-learn) (1.1.0)\n",
            "Building wheels for collected packages: umap-learn, pynndescent\n",
            "  Building wheel for umap-learn (setup.py) ... \u001b[?25l\u001b[?25hdone\n",
            "  Created wheel for umap-learn: filename=umap_learn-0.5.2-py3-none-any.whl size=82709 sha256=6bdded50424582cf8198f2fb36cbc3dfd23e3fc08f6568bb7e6f1537b29169cd\n",
            "  Stored in directory: /root/.cache/pip/wheels/84/1b/c6/aaf68a748122632967cef4dffef68224eb16798b6793257d82\n",
            "  Building wheel for pynndescent (setup.py) ... \u001b[?25l\u001b[?25hdone\n",
            "  Created wheel for pynndescent: filename=pynndescent-0.5.5-py3-none-any.whl size=52603 sha256=196240c1432432b1d04a960468419d27140b0dfa74070176c3a43a1279b98449\n",
            "  Stored in directory: /root/.cache/pip/wheels/af/e9/33/04db1436df0757c42fda8ea6796d7a8586e23c85fac355f476\n",
            "Successfully built umap-learn pynndescent\n",
            "Installing collected packages: pynndescent, umap-learn\n",
            "Successfully installed pynndescent-0.5.5 umap-learn-0.5.2\n"
          ]
        }
      ]
    },
    {
      "cell_type": "code",
      "metadata": {
        "id": "7GvuznzISB-h"
      },
      "source": [
        "import numpy as np\n",
        "import pandas as pd\n",
        "import re\n",
        "\n",
        "import tensorflow as tf\n",
        "import tensorflow_hub as hub\n",
        "import tensorflow_text\n",
        "import umap\n",
        "\n",
        "from sklearn.cluster import KMeans\n",
        "import matplotlib.pyplot as plt\n",
        "\n",
        "from sklearn.cluster import AgglomerativeClustering\n",
        "from sklearn.neighbors import kneighbors_graph\n",
        "\n",
        "import pythainlp\n",
        "from pythainlp.corpus.common import thai_words\n",
        "from pythainlp.util import Trie\n",
        "import collections\n"
      ],
      "execution_count": 92,
      "outputs": []
    },
    {
      "cell_type": "code",
      "metadata": {
        "id": "fUq1dSYcS5yM"
      },
      "source": [
        "module_url = 'https://tfhub.dev/google/universal-sentence-encoder-multilingual/3' #'https://tfhub.dev/google/universal-sentence-encoder-multilingual/3' for a large model\n",
        "\n",
        "model = hub.load(module_url)"
      ],
      "execution_count": 93,
      "outputs": []
    },
    {
      "cell_type": "code",
      "metadata": {
        "id": "dZiaG3R4b6kN"
      },
      "source": [
        "df = pd.read_csv(\"Wongnai Reviews - Small.csv\")"
      ],
      "execution_count": 4,
      "outputs": []
    },
    {
      "cell_type": "code",
      "metadata": {
        "colab": {
          "base_uri": "https://localhost:8080/",
          "height": 204
        },
        "id": "gonSv6i4cVs1",
        "outputId": "56eef04b-2bf7-4db0-a5cf-0887f3f67454"
      },
      "source": [
        "df.head()"
      ],
      "execution_count": 94,
      "outputs": [
        {
          "output_type": "execute_result",
          "data": {
            "text/html": [
              "<div>\n",
              "<style scoped>\n",
              "    .dataframe tbody tr th:only-of-type {\n",
              "        vertical-align: middle;\n",
              "    }\n",
              "\n",
              "    .dataframe tbody tr th {\n",
              "        vertical-align: top;\n",
              "    }\n",
              "\n",
              "    .dataframe thead th {\n",
              "        text-align: right;\n",
              "    }\n",
              "</style>\n",
              "<table border=\"1\" class=\"dataframe\">\n",
              "  <thead>\n",
              "    <tr style=\"text-align: right;\">\n",
              "      <th></th>\n",
              "      <th>Review ID</th>\n",
              "      <th>Review</th>\n",
              "      <th>KMeans ID</th>\n",
              "      <th>Agglomerative ID</th>\n",
              "    </tr>\n",
              "  </thead>\n",
              "  <tbody>\n",
              "    <tr>\n",
              "      <th>0</th>\n",
              "      <td>1</td>\n",
              "      <td>เป็นคนที่ชอบทาน Macchiato เป็นประจำ มีวันนึงเด...</td>\n",
              "      <td>2</td>\n",
              "      <td>0</td>\n",
              "    </tr>\n",
              "    <tr>\n",
              "      <th>1</th>\n",
              "      <td>2</td>\n",
              "      <td>Art of Coffee Kasetsart เป็นร้านกาแฟรสชาติเยี่...</td>\n",
              "      <td>2</td>\n",
              "      <td>0</td>\n",
              "    </tr>\n",
              "    <tr>\n",
              "      <th>2</th>\n",
              "      <td>3</td>\n",
              "      <td>กวงทะเลเผา อาหารทะเลเค้าสดจริงๆเนื้อปูหวานไม่ค...</td>\n",
              "      <td>1</td>\n",
              "      <td>0</td>\n",
              "    </tr>\n",
              "    <tr>\n",
              "      <th>3</th>\n",
              "      <td>4</td>\n",
              "      <td>วันนี้มีโอกาสตื่นเช้าครับเลยถึงโอกาสออกมาหาอะไ...</td>\n",
              "      <td>1</td>\n",
              "      <td>0</td>\n",
              "    </tr>\n",
              "    <tr>\n",
              "      <th>4</th>\n",
              "      <td>5</td>\n",
              "      <td>ชอบมาทานร้านนี้ถ้าอยากกินอาหารเวียดนามใกล้บ้าน...</td>\n",
              "      <td>1</td>\n",
              "      <td>0</td>\n",
              "    </tr>\n",
              "  </tbody>\n",
              "</table>\n",
              "</div>"
            ],
            "text/plain": [
              "   Review ID  ... Agglomerative ID\n",
              "0          1  ...                0\n",
              "1          2  ...                0\n",
              "2          3  ...                0\n",
              "3          4  ...                0\n",
              "4          5  ...                0\n",
              "\n",
              "[5 rows x 4 columns]"
            ]
          },
          "metadata": {},
          "execution_count": 94
        }
      ]
    },
    {
      "cell_type": "markdown",
      "metadata": {
        "id": "Oowl7VYeP3gK"
      },
      "source": [
        "**Step 1 - document embedding and dimension reduction**"
      ]
    },
    {
      "cell_type": "code",
      "metadata": {
        "colab": {
          "base_uri": "https://localhost:8080/"
        },
        "id": "e29WZmM4cCOS",
        "outputId": "69a2ca09-d85f-457c-e7f8-707cc86ea82b"
      },
      "source": [
        "#embed sentences using Universal Sentence Encoder (USE)\n",
        "\n",
        "embed_comments_array = model(df['Review'].values).numpy()\n",
        "embed_comments_array"
      ],
      "execution_count": 95,
      "outputs": [
        {
          "output_type": "execute_result",
          "data": {
            "text/plain": [
              "array([[ 0.08993827,  0.01941084,  0.03787038, ..., -0.03488849,\n",
              "         0.06299512,  0.04635989],\n",
              "       [ 0.00634244,  0.00814594,  0.03071941, ..., -0.01478723,\n",
              "        -0.03080936, -0.03316405],\n",
              "       [ 0.0633687 , -0.02027139, -0.05077003, ..., -0.06530775,\n",
              "        -0.00952999, -0.03439987],\n",
              "       ...,\n",
              "       [ 0.08775924,  0.03609736,  0.01263062, ..., -0.03102781,\n",
              "        -0.03361677,  0.01928871],\n",
              "       [ 0.05691195,  0.05381691, -0.0399575 , ..., -0.06598807,\n",
              "        -0.05390478, -0.01037725],\n",
              "       [ 0.0777048 ,  0.05080631,  0.02680681, ..., -0.0061413 ,\n",
              "        -0.01313567,  0.02236264]], dtype=float32)"
            ]
          },
          "metadata": {},
          "execution_count": 95
        }
      ]
    },
    {
      "cell_type": "code",
      "metadata": {
        "id": "5gps1fE8ctMQ"
      },
      "source": [
        "#reduce array dimensions using umap (you can chagne n_components)\n",
        "\n",
        "reducer = umap.UMAP(random_state=42,n_components=64)\n",
        "umap_embed_comments_array = reducer.fit_transform(embed_comments_array)"
      ],
      "execution_count": 96,
      "outputs": []
    },
    {
      "cell_type": "markdown",
      "metadata": {
        "id": "s5qq2RQlQJbV"
      },
      "source": [
        "**Step 2 - document clustering using KMeans**"
      ]
    },
    {
      "cell_type": "code",
      "metadata": {
        "colab": {
          "base_uri": "https://localhost:8080/",
          "height": 312
        },
        "id": "2IkMb1UIF3k5",
        "outputId": "6f3272b5-7477-4f5b-d956-1051a39d7e4c"
      },
      "source": [
        "#run kmeans with various number of k. evaluate no. of k based on the elbow plot\n",
        "\n",
        "wcss=[]\n",
        "max_k = 10\n",
        "for i in range(1, max_k):\n",
        "  kmeans = KMeans(i)\n",
        "  kmeans.fit(umap_embed_comments_array)\n",
        "  wcss_iter = kmeans.inertia_\n",
        "  wcss.append(wcss_iter)\n",
        "\n",
        "number_clusters = range(1, max_k)\n",
        "plt.plot(number_clusters,wcss)\n",
        "plt.title('The Elbow title')\n",
        "plt.xlabel('Number of clusters')\n",
        "plt.ylabel('WCSS')"
      ],
      "execution_count": 97,
      "outputs": [
        {
          "output_type": "execute_result",
          "data": {
            "text/plain": [
              "Text(0, 0.5, 'WCSS')"
            ]
          },
          "metadata": {},
          "execution_count": 97
        },
        {
          "output_type": "display_data",
          "data": {
            "image/png": "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\n",
            "text/plain": [
              "<Figure size 432x288 with 1 Axes>"
            ]
          },
          "metadata": {
            "needs_background": "light"
          }
        }
      ]
    },
    {
      "cell_type": "code",
      "metadata": {
        "id": "1o0czkMVdSJ5"
      },
      "source": [
        "#run kmeans with no. of clusters you see fit the most\n",
        "\n",
        "k = 3\n",
        "\n",
        "kmeans = KMeans(n_clusters = k)\n",
        "kmeans.fit(umap_embed_comments_array)\n",
        "\n",
        "df['KMeans ID'] = kmeans.labels_"
      ],
      "execution_count": 98,
      "outputs": []
    },
    {
      "cell_type": "code",
      "metadata": {
        "id": "bf3R2QBr3oOq"
      },
      "source": [
        "#merge all reviews of each cluster into one big sentence \n",
        "\n",
        "df_kmeans = pd.DataFrame(columns=[\"KMeans ID\", \"texts\"])\n",
        "\n",
        "\n",
        "for i in range(0, k):\n",
        "  row = []\n",
        "  row.append(i)\n",
        "  row.append(df['Review'][df['KMeans ID'] == i].to_string())\n",
        "  df_kmeans.loc[len(df_kmeans)] = row"
      ],
      "execution_count": 99,
      "outputs": []
    },
    {
      "cell_type": "code",
      "metadata": {
        "colab": {
          "base_uri": "https://localhost:8080/",
          "height": 141
        },
        "id": "UFo_nqQEL08U",
        "outputId": "37b51a22-1f0a-48ff-c8a0-5dd4ec15d585"
      },
      "source": [
        "df_kmeans"
      ],
      "execution_count": 100,
      "outputs": [
        {
          "output_type": "execute_result",
          "data": {
            "text/html": [
              "<div>\n",
              "<style scoped>\n",
              "    .dataframe tbody tr th:only-of-type {\n",
              "        vertical-align: middle;\n",
              "    }\n",
              "\n",
              "    .dataframe tbody tr th {\n",
              "        vertical-align: top;\n",
              "    }\n",
              "\n",
              "    .dataframe thead th {\n",
              "        text-align: right;\n",
              "    }\n",
              "</style>\n",
              "<table border=\"1\" class=\"dataframe\">\n",
              "  <thead>\n",
              "    <tr style=\"text-align: right;\">\n",
              "      <th></th>\n",
              "      <th>KMeans ID</th>\n",
              "      <th>texts</th>\n",
              "    </tr>\n",
              "  </thead>\n",
              "  <tbody>\n",
              "    <tr>\n",
              "      <th>0</th>\n",
              "      <td>0</td>\n",
              "      <td>13     เคยเป็นไหมกันไหมคะ หลังอาหารมื้อใหญ่ ต่...</td>\n",
              "    </tr>\n",
              "    <tr>\n",
              "      <th>1</th>\n",
              "      <td>1</td>\n",
              "      <td>2      กวงทะเลเผา อาหารทะเลเค้าสดจริงๆเนื้อปูห...</td>\n",
              "    </tr>\n",
              "    <tr>\n",
              "      <th>2</th>\n",
              "      <td>2</td>\n",
              "      <td>0      เป็นคนที่ชอบทาน Macchiato เป็นประจำ มีว...</td>\n",
              "    </tr>\n",
              "  </tbody>\n",
              "</table>\n",
              "</div>"
            ],
            "text/plain": [
              "  KMeans ID                                              texts\n",
              "0         0  13     เคยเป็นไหมกันไหมคะ หลังอาหารมื้อใหญ่ ต่...\n",
              "1         1  2      กวงทะเลเผา อาหารทะเลเค้าสดจริงๆเนื้อปูห...\n",
              "2         2  0      เป็นคนที่ชอบทาน Macchiato เป็นประจำ มีว..."
            ]
          },
          "metadata": {},
          "execution_count": 100
        }
      ]
    },
    {
      "cell_type": "code",
      "metadata": {
        "id": "JydvwIz5NcaI"
      },
      "source": [
        "#create regex compiler for removal of a character you don't want\n",
        "\n",
        "special_characters = \"/[!@#$%^&*']/g\"\n",
        "\n",
        "specialchar_pattern = re.compile(special_characters)"
      ],
      "execution_count": 101,
      "outputs": []
    },
    {
      "cell_type": "code",
      "metadata": {
        "id": "R8ymEA_2EhGi"
      },
      "source": [
        "#create regex compiler for removal of any emoji\n",
        "\n",
        "emoji_pattern = re.compile(\"[\"\n",
        "        u\"\\U0001F600-\\U0001F64F\"  # emoticons\n",
        "        u\"\\U0001F300-\\U0001F5FF\"  # symbols & pictographs\n",
        "        u\"\\U0001F680-\\U0001F6FF\"  # transport & map symbols\n",
        "        u\"\\U0001F1E0-\\U0001F1FF\"  # flags (iOS)\n",
        "                           \"]+\", flags=re.UNICODE)"
      ],
      "execution_count": 102,
      "outputs": []
    },
    {
      "cell_type": "code",
      "metadata": {
        "id": "9Q93YKJZK5ak"
      },
      "source": [
        "#create regex compiler for removal of digit\n",
        "\n",
        "number_pattern = re.compile(\"[0-9]\")"
      ],
      "execution_count": 103,
      "outputs": []
    },
    {
      "cell_type": "code",
      "metadata": {
        "id": "sHZ0HKlXNeSi"
      },
      "source": [
        "#create regex compiler for removal of white space\n",
        "\n",
        "space_pattern = re.compile(\"\\s+\")"
      ],
      "execution_count": 104,
      "outputs": []
    },
    {
      "cell_type": "code",
      "metadata": {
        "id": "-orHzqLkNupd"
      },
      "source": [
        "#create regex compiler for removal of .\n",
        "\n",
        "dot_pattern = re.compile(r\"\\.+\")"
      ],
      "execution_count": 105,
      "outputs": []
    },
    {
      "cell_type": "code",
      "metadata": {
        "id": "v7bW9th9N7oG"
      },
      "source": [
        "#create regex compiler for removal of \\\n",
        "\n",
        "backslash_pattern = re.compile(r\"\\\\+\")"
      ],
      "execution_count": 106,
      "outputs": []
    },
    {
      "cell_type": "code",
      "metadata": {
        "id": "RaEk3BIZPWt0"
      },
      "source": [
        "# one_pattern = re.compile(r\"\\w\")"
      ],
      "execution_count": 83,
      "outputs": []
    },
    {
      "cell_type": "code",
      "metadata": {
        "id": "ZGVvQhZz4tGs"
      },
      "source": [
        "#define a function to tokenize a sentence into words - you can define words you want to remove as well as new words for tokenization\n",
        "\n",
        "stopwords = list(pythainlp.corpus.thai_stopwords())\n",
        "removed_words = ['u', 'b', 'n', 'nn', 'nn-', '\\n', 'ร้าน','กิน','ทาน','กก','ผม','ทาน','ร้า','กา','รีวิว','ก','น','ก','สวัสดี']\n",
        "screening_words = stopwords + removed_words\n",
        "\n",
        "new_words = {\"สตารบัก\",\"ชานมไข่มุก\"}\n",
        "\n",
        "words = new_words.union(thai_words())\n",
        "\n",
        "custom_dictionary_trie = Trie(words)\n",
        "\n",
        "def tokenize_to_list(sentence):\n",
        "  merged = []\n",
        "  words = pythainlp.word_tokenize(str(sentence), engine='newmm', custom_dict=custom_dictionary_trie)\n",
        "  for word in words:\n",
        "    if word not in screening_words:\n",
        "      merged.append(word)\n",
        "  return merged"
      ],
      "execution_count": 116,
      "outputs": []
    },
    {
      "cell_type": "code",
      "metadata": {
        "id": "MnN1ekEoL9ug"
      },
      "source": [
        "#clean and tokenize sentences. count the occurences of each word\n",
        "\n",
        "df_kmeans['texts'] = df_kmeans['texts'].apply(lambda x: emoji_pattern.sub(r'', x))\n",
        "df_kmeans['texts'] = df_kmeans['texts'].apply(lambda x: specialchar_pattern.sub(r'', x))\n",
        "df_kmeans['texts'] = df_kmeans['texts'].apply(lambda x: number_pattern.sub(r'', x))\n",
        "df_kmeans['texts'] = df_kmeans['texts'].apply(lambda x: space_pattern.sub(r'', x))\n",
        "df_kmeans['texts'] = df_kmeans['texts'].apply(lambda x: dot_pattern.sub(r'', x))\n",
        "df_kmeans['texts'] = df_kmeans['texts'].apply(lambda x: backslash_pattern.sub(r'', x))\n",
        "# df_kmeans['texts'] = df_kmeans['texts'].apply(lambda x: one_pattern.sub(r'', x))\n",
        "df_kmeans['texts_tokenized'] = df_kmeans['texts'].apply(lambda x: tokenize_to_list(x))\n",
        "df_kmeans['texts_count'] = df_kmeans['texts_tokenized'].apply(lambda x: collections.Counter(x).most_common())"
      ],
      "execution_count": 117,
      "outputs": []
    },
    {
      "cell_type": "code",
      "metadata": {
        "colab": {
          "base_uri": "https://localhost:8080/",
          "height": 141
        },
        "id": "G0jG1yO889B2",
        "outputId": "fb4b4dc6-e2da-4223-e699-3e5398402610"
      },
      "source": [
        "#results of tokenization\n",
        "\n",
        "df_kmeans"
      ],
      "execution_count": 118,
      "outputs": [
        {
          "output_type": "execute_result",
          "data": {
            "text/html": [
              "<div>\n",
              "<style scoped>\n",
              "    .dataframe tbody tr th:only-of-type {\n",
              "        vertical-align: middle;\n",
              "    }\n",
              "\n",
              "    .dataframe tbody tr th {\n",
              "        vertical-align: top;\n",
              "    }\n",
              "\n",
              "    .dataframe thead th {\n",
              "        text-align: right;\n",
              "    }\n",
              "</style>\n",
              "<table border=\"1\" class=\"dataframe\">\n",
              "  <thead>\n",
              "    <tr style=\"text-align: right;\">\n",
              "      <th></th>\n",
              "      <th>KMeans ID</th>\n",
              "      <th>texts</th>\n",
              "      <th>texts_tokenized</th>\n",
              "      <th>texts_count</th>\n",
              "    </tr>\n",
              "  </thead>\n",
              "  <tbody>\n",
              "    <tr>\n",
              "      <th>0</th>\n",
              "      <td>0</td>\n",
              "      <td>เคยเป็นไหมกันไหมคะหลังอาหารมื้อใหญ่ต่อให้อิ่เช...</td>\n",
              "      <td>[ไหม, ไหม, หลังอาหาร, มื้อ, ต่อให้, อิ่, เช้า,...</td>\n",
              "      <td>[(ชา, 9), (ชานมไข่มุก, 9), (ไข่มุก, 5), (นม, 5...</td>\n",
              "    </tr>\n",
              "    <tr>\n",
              "      <th>1</th>\n",
              "      <td>1</td>\n",
              "      <td>กวงทะเลเผาอาหารทะเลเค้าสดจริงๆเนื้อปูหวานไม่คว...</td>\n",
              "      <td>[กวง, ทะเล, เผา, อาหารทะเล, เค้า, สด, เนื้อ, ป...</td>\n",
              "      <td>[(ร้านอาหาร, 14), (อร่อย, 11), (อาหาร, 10), (บ...</td>\n",
              "    </tr>\n",
              "    <tr>\n",
              "      <th>2</th>\n",
              "      <td>2</td>\n",
              "      <td>เป็นคนที่ชอบทานMacchiatoเป็นประจำมีวันนึงเดArt...</td>\n",
              "      <td>[คน, ชอบ, Macchiato, เป็นประจำ, นึง, เด, Artof...</td>\n",
              "      <td>[(ร้านกาแฟ, 25), (กาแฟ, 22), (ชอบ, 10), (คาเฟ่...</td>\n",
              "    </tr>\n",
              "  </tbody>\n",
              "</table>\n",
              "</div>"
            ],
            "text/plain": [
              "  KMeans ID  ...                                        texts_count\n",
              "0         0  ...  [(ชา, 9), (ชานมไข่มุก, 9), (ไข่มุก, 5), (นม, 5...\n",
              "1         1  ...  [(ร้านอาหาร, 14), (อร่อย, 11), (อาหาร, 10), (บ...\n",
              "2         2  ...  [(ร้านกาแฟ, 25), (กาแฟ, 22), (ชอบ, 10), (คาเฟ่...\n",
              "\n",
              "[3 rows x 4 columns]"
            ]
          },
          "metadata": {},
          "execution_count": 118
        }
      ]
    },
    {
      "cell_type": "code",
      "metadata": {
        "colab": {
          "base_uri": "https://localhost:8080/"
        },
        "id": "n0LZ5H8_Dqvn",
        "outputId": "3a6286e9-2181-4fa4-96e5-370ee1bc06c0"
      },
      "source": [
        "#show top keywords of each cluster\n",
        "\n",
        "top_N_words = 10\n",
        "\n",
        "\n",
        "for i in range(0, len(df_kmeans)):\n",
        "  print(f\"Cluster ID : {i}\\n\")\n",
        "  print(f\"Most common words include : {list(df_kmeans['texts_count'][i])[:top_N_words]}\\n\")\n",
        "\n",
        "#tune a model by remove unwanted characters and words and add more words to a custom dictionary"
      ],
      "execution_count": 124,
      "outputs": [
        {
          "output_type": "stream",
          "name": "stdout",
          "text": [
            "Cluster ID : 0\n",
            "\n",
            "Most common words include : [('ชา', 9), ('ชานมไข่มุก', 9), ('ไข่มุก', 5), ('นม', 5), ('เครื่องดื่ม', 4), ('น้ำ', 3), ('ตั้งอยู่', 3), ('ลอง', 3), ('เดิน', 3), ('ปั่น', 3)]\n",
            "\n",
            "Cluster ID : 1\n",
            "\n",
            "Most common words include : [('ร้านอาหาร', 14), ('อร่อย', 11), ('อาหาร', 10), ('บ้าน', 6), ('ส้มตำ', 6), ('ซอย', 6), ('สาขา', 6), ('กาแฟ', 6), ('เพื่อน', 5), ('ไทย', 5)]\n",
            "\n",
            "Cluster ID : 2\n",
            "\n",
            "Most common words include : [('ร้านกาแฟ', 25), ('กาแฟ', 22), ('ชอบ', 10), ('คาเฟ่', 6), ('แวะ', 6), ('ดี', 6), ('รี่', 5), ('อร่อย', 5), ('น่ารัก', 5), ('นั่ง', 5)]\n",
            "\n"
          ]
        }
      ]
    },
    {
      "cell_type": "code",
      "metadata": {
        "id": "VWgW-tCkcPgU"
      },
      "source": [
        "# document clustering using Agglomorative Clustering with cosine similarity\n",
        "#clustering using agglomorative clustering\n",
        "\n",
        "# knn_graph = kneighbors_graph(embed_comments_array, 5, include_self=False)\n",
        "# model = AgglomerativeClustering(linkage=\"average\", connectivity=knn_graph, n_clusters=10, affinity=\"cosine\")\n",
        "# model.fit(embed_comments_array)\n",
        "# df['Agglomerative ID'] = model.labels_"
      ],
      "execution_count": 120,
      "outputs": []
    },
    {
      "cell_type": "code",
      "metadata": {
        "id": "XHfsJyL8dmGC"
      },
      "source": [
        "# #merge all reviews of each cluster into one big sentence \n",
        "\n",
        "# df_Agglomerative = pd.DataFrame(columns=[\"Agglomerative ID\", \"texts\"])\n",
        "\n",
        "\n",
        "# for i in range(0, k):\n",
        "#   row = []\n",
        "#   row.append(i)\n",
        "#   row.append(str(df['Review'][df['Agglomerative ID'] == i].tolist()))\n",
        "#   df_Agglomerative.loc[len(df_Agglomerative)] = row"
      ],
      "execution_count": 121,
      "outputs": []
    },
    {
      "cell_type": "code",
      "metadata": {
        "id": "7hsSbTWvdtK2"
      },
      "source": [
        "# #clean and tokenize sentences. count the occurences of each word\n",
        "\n",
        "# df_Agglomerative['texts'] = df_Agglomerative['texts'].apply(lambda x: emoji_pattern.sub(r'', x))\n",
        "# df_Agglomerative['texts'] = df_Agglomerative['texts'].apply(lambda x: specialchar_pattern.sub(r'', x))\n",
        "# df_Agglomerative['texts'] = df_Agglomerative['texts'].apply(lambda x: number_pattern.sub(r'', x))\n",
        "# df_Agglomerative['texts'] = df_Agglomerative['texts'].apply(lambda x: space_pattern.sub(r'', x))\n",
        "# df_Agglomerative['texts'] = df_Agglomerative['texts'].apply(lambda x: dot_pattern.sub(r'', x))\n",
        "# df_Agglomerative['texts'] = df_Agglomerative['texts'].apply(lambda x: backslash_pattern.sub(r'', x))\n",
        "# df_Agglomerative['texts_tokenized'] = df_Agglomerative['texts'].apply(lambda x: tokenize_to_list(x))\n",
        "# df_Agglomerative['texts_count'] = df_Agglomerative['texts_tokenized'].apply(lambda x: collections.Counter(x).most_common())"
      ],
      "execution_count": 122,
      "outputs": []
    },
    {
      "cell_type": "code",
      "metadata": {
        "colab": {
          "base_uri": "https://localhost:8080/"
        },
        "id": "HsRWk5oHd0UH",
        "outputId": "d146ba03-2abf-42e9-a02c-8eac3cb39ffe"
      },
      "source": [
        "# #show top keywords of each cluster\n",
        "\n",
        "# top_N_words = 10\n",
        "\n",
        "# for i in range(0, len(df_Agglomerative)):\n",
        "#   print(f\"Cluster ID : {i}\\n\")\n",
        "#   print(f\"Most common words include : {list(df_Agglomerative['texts_count'][i])[:top_N_words]}\\n\")"
      ],
      "execution_count": 123,
      "outputs": [
        {
          "output_type": "stream",
          "name": "stdout",
          "text": [
            "Cluster ID : 0\n",
            "\n",
            "Most common words include : [('อร่อย', 508), ('รสชาติ', 407), ('ดี', 347), ('กาแฟ', 311), ('เมนู', 309), ('สั่ง', 301), ('อาหาร', 285), ('ราคา', 273), ('(', 270), (')', 250)]\n",
            "\n",
            "Cluster ID : 1\n",
            "\n",
            "Most common words include : [('แตงโม', 22), ('น้ำ', 8), ('ปั่น', 6), ('เนื้อ', 6), ('เลือก', 4), ('ซื้อ', 4), ('ดื่ม', 4), ('พันธุ์', 3), ('รับประทาน', 3), ('แก้', 3)]\n",
            "\n",
            "Cluster ID : 2\n",
            "\n",
            "Most common words include : [('ดิชั้น', 4), ('แย่มาก', 3), ('โต๊ะ', 2), ('รอง', 2), ('แก้ว', 2), (\"['\", 1), ('ดิ', 1), ('ช้ัน', 1), ('ทบ', 1), ('อาหาร', 1)]\n",
            "\n"
          ]
        }
      ]
    },
    {
      "cell_type": "markdown",
      "metadata": {
        "id": "3aNJxg2ATtmK"
      },
      "source": [
        "**Step 3 - result discussion**"
      ]
    },
    {
      "cell_type": "markdown",
      "metadata": {
        "id": "cQ2SOjNKT1d7"
      },
      "source": [
        "ควรมีกี่ topic และ เป็น topic อะไร\n",
        "\n",
        "Ans\n",
        "3 topic \n",
        "1.   ชานมไข่มุก\n",
        "2.   ร้านอาหาร\n",
        "3.   ร้านกาแฟ\n",
        "\n"
      ]
    }
  ]
>>>>>>> 8da415f718ca80a5c65a0ab97d0f70df71e9f7ac
}